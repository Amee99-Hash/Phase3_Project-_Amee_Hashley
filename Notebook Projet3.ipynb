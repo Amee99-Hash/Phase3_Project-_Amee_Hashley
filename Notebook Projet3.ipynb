{
 "cells": [
  {
   "cell_type": "markdown",
   "id": "d191b8a9-fc8b-4623-a0e5-23ecec85e0b7",
   "metadata": {},
   "source": [
    "# Prédiction du prix de vente — Ames Housing\n",
    "**Phase 3 – Bootcamp Data Science**  \n",
    "*Amee Hashley JEUDY — ameehashleyjeudy@gmail.com*\n",
    "\n",
    "---\n",
    "\n",
    "## Objectifs\n",
    "- Construire un modèle de régression linéaire **simple** (baseline).\n",
    "- Construire un modèle de régression linéaire **multiple** (amélioration).\n",
    "- **Comparer** les modèles via le R² et la significativité.\n",
    "- **Interpréter** les coefficients et formuler des recommandations.\n",
    "\n",
    "## Données\n",
    "- Source : **Ames Housing (Iowa, USA)**  \n",
    "- Cible : `SalePrice`  \n",
    "- Prédicteurs : `GrLivArea`, `GarageArea`, `LotArea`, `LotFrontage`\n"
   ]
  },
  {
   "cell_type": "code",
   "execution_count": 8,
   "id": "85d61898-2ffc-4db6-95c2-b74a26370001",
   "metadata": {},
   "outputs": [
    {
     "data": {
      "text/html": [
       "<div>\n",
       "<style scoped>\n",
       "    .dataframe tbody tr th:only-of-type {\n",
       "        vertical-align: middle;\n",
       "    }\n",
       "\n",
       "    .dataframe tbody tr th {\n",
       "        vertical-align: top;\n",
       "    }\n",
       "\n",
       "    .dataframe thead th {\n",
       "        text-align: right;\n",
       "    }\n",
       "</style>\n",
       "<table border=\"1\" class=\"dataframe\">\n",
       "  <thead>\n",
       "    <tr style=\"text-align: right;\">\n",
       "      <th></th>\n",
       "      <th>SalePrice</th>\n",
       "      <th>GrLivArea</th>\n",
       "      <th>GarageArea</th>\n",
       "      <th>LotArea</th>\n",
       "      <th>LotFrontage</th>\n",
       "    </tr>\n",
       "    <tr>\n",
       "      <th>Id</th>\n",
       "      <th></th>\n",
       "      <th></th>\n",
       "      <th></th>\n",
       "      <th></th>\n",
       "      <th></th>\n",
       "    </tr>\n",
       "  </thead>\n",
       "  <tbody>\n",
       "    <tr>\n",
       "      <th>1</th>\n",
       "      <td>208500</td>\n",
       "      <td>1710</td>\n",
       "      <td>548</td>\n",
       "      <td>8450</td>\n",
       "      <td>65.0</td>\n",
       "    </tr>\n",
       "    <tr>\n",
       "      <th>2</th>\n",
       "      <td>181500</td>\n",
       "      <td>1262</td>\n",
       "      <td>460</td>\n",
       "      <td>9600</td>\n",
       "      <td>80.0</td>\n",
       "    </tr>\n",
       "    <tr>\n",
       "      <th>3</th>\n",
       "      <td>223500</td>\n",
       "      <td>1786</td>\n",
       "      <td>608</td>\n",
       "      <td>11250</td>\n",
       "      <td>68.0</td>\n",
       "    </tr>\n",
       "    <tr>\n",
       "      <th>4</th>\n",
       "      <td>140000</td>\n",
       "      <td>1717</td>\n",
       "      <td>642</td>\n",
       "      <td>9550</td>\n",
       "      <td>60.0</td>\n",
       "    </tr>\n",
       "    <tr>\n",
       "      <th>5</th>\n",
       "      <td>250000</td>\n",
       "      <td>2198</td>\n",
       "      <td>836</td>\n",
       "      <td>14260</td>\n",
       "      <td>84.0</td>\n",
       "    </tr>\n",
       "  </tbody>\n",
       "</table>\n",
       "</div>"
      ],
      "text/plain": [
       "    SalePrice  GrLivArea  GarageArea  LotArea  LotFrontage\n",
       "Id                                                        \n",
       "1      208500       1710         548     8450         65.0\n",
       "2      181500       1262         460     9600         80.0\n",
       "3      223500       1786         608    11250         68.0\n",
       "4      140000       1717         642     9550         60.0\n",
       "5      250000       2198         836    14260         84.0"
      ]
     },
     "execution_count": 8,
     "metadata": {},
     "output_type": "execute_result"
    }
   ],
   "source": [
    "# ============================\n",
    "# 0. Préambule : imports & setup\n",
    "# ============================\n",
    "# But : charger les bibliothèques, fixer l'affichage et lire les données.\n",
    "import numpy as np\n",
    "import statsmodels.api as sm\n",
    "import pandas as pd\n",
    "import warnings\n",
    "warnings.filterwarnings('ignore')\n",
    "\n",
    "# Affichage lisible\n",
    "pd.set_option(\"display.max_columns\", 200)\n",
    "pd.set_option(\"display.width\", 120)\n",
    "\n",
    "# Reproductibilité\n",
    "np.random.seed(42)\n",
    "\n",
    "# ---- Chemin du fichier ----\n",
    "# Lecture des données\n",
    "df = pd.read_csv(\"ames.csv\", index_col=0)\n",
    "df = df[[\"SalePrice\", \"GrLivArea\", \"GarageArea\", \"LotArea\", \"LotFrontage\"]].copy()\n",
    "df.dropna(inplace=True)\n",
    "df.head()"
   ]
  },
  {
   "cell_type": "code",
   "execution_count": 11,
   "id": "91afce2c-63a1-4d13-aa3d-c7587c7128b2",
   "metadata": {},
   "outputs": [],
   "source": [
    "# helpers régression: ajout intercept + extraction sûre des coefs\n",
    "def add_intercept(X):\n",
    "    \"\"\"Ajoute l'intercept pour OLS (colonne 'const').\"\"\"\n",
    "    Xc = sm.add_constant(X, has_constant='add')\n",
    "    return Xc\n",
    "\n",
    "def get_intercept(params):\n",
    "    \"\"\"Récupère l'intercept, quel que soit le nom ('const' ou 'Intercept').\"\"\"\n",
    "    if 'const' in params.index: \n",
    "        return params['const']\n",
    "    if 'Intercept' in params.index:\n",
    "        return params['Intercept']\n",
    "    # sinon, retourne NaN (utile pour debug)\n",
    "    return float('nan')\n",
    "    df.head()"
   ]
  },
  {
   "cell_type": "markdown",
   "id": "2c73b05a-117a-42bd-bba1-92a351fc0d6e",
   "metadata": {},
   "source": [
    "## Modèle 1 — Régression linéaire **simple**\n",
    "Formule : `SalePrice ~ GrLivArea`  \n",
    "- **But** : établir une baseline interprétable.  \n",
    "- **Attendu** : un R² moyen (~0.5) sur Ames ; pente positive. "
   ]
  },
  {
   "cell_type": "code",
   "execution_count": 13,
   "id": "343e9cec-a7d2-49a1-9915-761412302e41",
   "metadata": {},
   "outputs": [
    {
     "name": "stdout",
     "output_type": "stream",
     "text": [
      "                            OLS Regression Results                            \n",
      "==============================================================================\n",
      "Dep. Variable:              SalePrice   R-squared:                       0.495\n",
      "Model:                            OLS   Adj. R-squared:                  0.495\n",
      "Method:                 Least Squares   F-statistic:                     1175.\n",
      "Date:                Mon, 20 Oct 2025   Prob (F-statistic):          4.39e-180\n",
      "Time:                        12:36:14   Log-Likelihood:                -14902.\n",
      "No. Observations:                1201   AIC:                         2.981e+04\n",
      "Df Residuals:                    1199   BIC:                         2.982e+04\n",
      "Df Model:                           1                                         \n",
      "Covariance Type:            nonrobust                                         \n",
      "==============================================================================\n",
      "                 coef    std err          t      P>|t|      [0.025      0.975]\n",
      "------------------------------------------------------------------------------\n",
      "const       1.347e+04   5171.332      2.605      0.009    3324.573    2.36e+04\n",
      "GrLivArea    110.7117      3.229     34.281      0.000     104.376     117.048\n",
      "==============================================================================\n",
      "Omnibus:                      197.122   Durbin-Watson:                   2.041\n",
      "Prob(Omnibus):                  0.000   Jarque-Bera (JB):             2702.386\n",
      "Skew:                           0.268   Prob(JB):                         0.00\n",
      "Kurtosis:                      10.329   Cond. No.                     4.84e+03\n",
      "==============================================================================\n",
      "\n",
      "Notes:\n",
      "[1] Standard Errors assume that the covariance matrix of the errors is correctly specified.\n",
      "[2] The condition number is large, 4.84e+03. This might indicate that there are\n",
      "strong multicollinearity or other numerical problems.\n"
     ]
    }
   ],
   "source": [
    "# ============================\n",
    "# 2. Modèle simple (baseline)\n",
    "# ============================\n",
    "# But : ajuster SalePrice ~ GrLivArea et récupérer métriques & coefficients.\n",
    "\n",
    "# Cible (y) et prédicteur (X)\n",
    "y = df['SalePrice']\n",
    "X = add_intercept(df[['GrLivArea']])\n",
    "\n",
    "# Ajustement du modèle\n",
    "simple_model = sm.OLS(y, X)\n",
    "simple_model_results = simple_model.fit()\n",
    "\n",
    "# Résumé (inclut R², F-stat, p-values)\n",
    "print(simple_model_results.summary())"
   ]
  },
  {
   "cell_type": "code",
   "execution_count": 14,
   "id": "158b4248-9f65-41aa-ac05-132c4047c8d5",
   "metadata": {},
   "outputs": [
    {
     "name": "stdout",
     "output_type": "stream",
     "text": [
      "\n",
      "R² (simple) = 0.495 | F p-value = 4.39e-180\n",
      "Intercept b ≈ $13,470.44 | Pente m ≈ $110.71 / sq ft\n"
     ]
    }
   ],
   "source": [
    "# Métriques-clés\n",
    "r_squared_simple = simple_model_results.rsquared\n",
    "p_f_simple = simple_model_results.f_pvalue\n",
    "\n",
    "# Coefficients\n",
    "m = simple_model_results.params['GrLivArea']  # pente\n",
    "b = get_intercept(simple_model_results.params) # intercept\n",
    "\n",
    "print(f\"\\nR² (simple) = {r_squared_simple:.3f} | F p-value = {p_f_simple:.3g}\")\n",
    "print(f\"Intercept b ≈ ${b:,.2f} | Pente m ≈ ${m:.2f} / sq ft\")"
   ]
  },
  {
   "cell_type": "markdown",
   "id": "74a54c67-6e88-42ad-997b-d86c49fecb11",
   "metadata": {},
   "source": [
    "## Modèle 2 — Régression linéaire **multiple**\n",
    "Formule : `SalePrice ~ GrLivArea + GarageArea + LotArea + LotFrontage`  \n",
    "- **But** : améliorer l’explication de la variance (R² plus élevé).  \n",
    "- **Note** : les lignes incomplètes sont retirées (`dropna`) pour éviter les biais d’index."
   ]
  },
  {
   "cell_type": "code",
   "execution_count": 16,
   "id": "38ff122d-0b0b-4751-a414-aa7386c8af2d",
   "metadata": {},
   "outputs": [
    {
     "name": "stdout",
     "output_type": "stream",
     "text": [
      "                            OLS Regression Results                            \n",
      "==============================================================================\n",
      "Dep. Variable:              SalePrice   R-squared:                       0.614\n",
      "Model:                            OLS   Adj. R-squared:                  0.613\n",
      "Method:                 Least Squares   F-statistic:                     476.5\n",
      "Date:                Mon, 20 Oct 2025   Prob (F-statistic):          1.11e-245\n",
      "Time:                        12:36:50   Log-Likelihood:                -14740.\n",
      "No. Observations:                1201   AIC:                         2.949e+04\n",
      "Df Residuals:                    1196   BIC:                         2.952e+04\n",
      "Df Model:                           4                                         \n",
      "Covariance Type:            nonrobust                                         \n",
      "===============================================================================\n",
      "                  coef    std err          t      P>|t|      [0.025      0.975]\n",
      "-------------------------------------------------------------------------------\n",
      "const       -1.151e+04   5421.192     -2.124      0.034   -2.22e+04    -878.343\n",
      "GrLivArea      79.5785      3.390     23.473      0.000      72.927      86.230\n",
      "GarageArea    143.6119      7.833     18.334      0.000     128.244     158.980\n",
      "LotArea         0.7909      0.212      3.730      0.000       0.375       1.207\n",
      "LotFrontage   -52.6476     72.856     -0.723      0.470    -195.588      90.293\n",
      "==============================================================================\n",
      "Omnibus:                      262.972   Durbin-Watson:                   2.047\n",
      "Prob(Omnibus):                  0.000   Jarque-Bera (JB):             9251.057\n",
      "Skew:                          -0.120   Prob(JB):                         0.00\n",
      "Kurtosis:                      16.594   Cond. No.                     4.63e+04\n",
      "==============================================================================\n",
      "\n",
      "Notes:\n",
      "[1] Standard Errors assume that the covariance matrix of the errors is correctly specified.\n",
      "[2] The condition number is large, 4.63e+04. This might indicate that there are\n",
      "strong multicollinearity or other numerical problems.\n"
     ]
    }
   ],
   "source": [
    "# ============================\n",
    "# 3. Modèle multiple\n",
    "# ============================\n",
    "# But : ajuster le modèle avec 4 variables explicatives et comparer au modèle simple.\n",
    "\n",
    "features = ['GrLivArea', 'GarageArea', 'LotArea', 'LotFrontage']\n",
    "sub = df[['SalePrice'] + features].dropna().copy()\n",
    "\n",
    "y2 = sub['SalePrice']\n",
    "X2 = add_intercept(sub[features])\n",
    "\n",
    "multiple_model = sm.OLS(y2, X2)\n",
    "multiple_model_results = multiple_model.fit()\n",
    "\n",
    "print(multiple_model_results.summary())"
   ]
  },
  {
   "cell_type": "code",
   "execution_count": 17,
   "id": "e3226ad7-a577-4481-b98e-57affffe4cee",
   "metadata": {},
   "outputs": [
    {
     "name": "stdout",
     "output_type": "stream",
     "text": [
      "\n",
      "R² (multiple) = 0.614 | F p-value = 1.11e-245\n"
     ]
    }
   ],
   "source": [
    "# Métriques-clés\n",
    "r_squared_multi = multiple_model_results.rsquared\n",
    "p_f_multi = multiple_model_results.f_pvalue\n",
    "\n",
    "print(f\"\\nR² (multiple) = {r_squared_multi:.3f} | F p-value = {p_f_multi:.3g}\")"
   ]
  },
  {
   "cell_type": "markdown",
   "id": "cc9b51ce-957a-439e-944e-9808e150514a",
   "metadata": {},
   "source": [
    "## Comparaison des modèles & significativité\n",
    "- **Question** : le modèle multiple explique-t-il **plus de variance** que le simple ?  \n",
    "- **Décision** : comparer `R²` et tester la **p-value du F-stat** (< 0,05 ⇒ modèle global significatif)."
   ]
  },
  {
   "cell_type": "code",
   "execution_count": 18,
   "id": "967957fa-26f6-4b07-9b64-c0d5e8866cdc",
   "metadata": {},
   "outputs": [
    {
     "name": "stdout",
     "output_type": "stream",
     "text": [
      "Le modèle multiple a-t-il un R² plus élevé ? True\n",
      "\n",
      "Variables non significatives (p > 0.05) :\n",
      "LotFrontage    0.470054\n",
      "dtype: float64\n"
     ]
    }
   ],
   "source": [
    "# ============================\n",
    "# 4. Comparaison & test global\n",
    "# ============================\n",
    "# But : décider si le modèle multiple est \"meilleur\" (R² plus grand).\n",
    "\n",
    "second_model_is_better = (r_squared_multi > r_squared_simple)\n",
    "print(\"Le modèle multiple a-t-il un R² plus élevé ?\", second_model_is_better)\n",
    "# Variable(s) non significative(s) (p > 0.05), en excluant l'intercept\n",
    "pvals = multiple_model_results.pvalues.copy()\n",
    "for k in list(pvals.index):\n",
    "    if k.lower() in ('const', 'intercept'):\n",
    "        pvals = pvals.drop(k)\n",
    "\n",
    "non_sig = pvals[pvals > 0.05].sort_values(ascending=False)\n",
    "print(\"\\nVariables non significatives (p > 0.05) :\")\n",
    "print(non_sig if len(non_sig) else \"Aucune\")"
   ]
  },
  {
   "cell_type": "markdown",
   "id": "24b4de1f-62dd-4c1e-8d97-ceb22c442fcd",
   "metadata": {},
   "source": [
    "## Interprétation (en langage simple)\n",
    "- **Surface habitable (`GrLivArea`)** : principal déterminant, effet positif et **hautement significatif**.  \n",
    "- **Surface garage (`GarageArea`)** : effet positif, souvent significatif.  \n",
    "- **`LotArea`** : effet plus faible (significativité variable).  \n",
    "- **`LotFrontage`** : souvent **non significatif** (p > 0,05) dans ce modèle.\n",
    "\n",
    "**Lecture des coefficients (ordre de grandeur) :**  \n",
    "- **Pente (`GrLivArea`)** : +1 sq ft ≈ +\\$118 en prix moyen (modèle simple).  \n",
    "- **Intercept** : prix attendu si toutes les surfaces = 0 (interprétation pratique limitée)."
   ]
  },
  {
   "cell_type": "markdown",
   "id": "0dd6e02e-609e-43e0-9af2-68bea5d3bf94",
   "metadata": {},
   "source": [
    "## Limites du travail\n",
    "- Données issues d’une seule ville (Ames) ⇒ **généralisation limitée**.\n",
    "- Variables qualitatives (qualité, état, quartier) **non incluses** ici.\n",
    "- **Multicolinéarité** potentielle entre surfaces (à analyser plus finement).\n",
    "- Pas d’ajustement à l’**inflation** / période temporelle.\n",
    "\n",
    "## Recommandations & suites\n",
    "- Intégrer des variables **qualitatives** (qualité, matériaux, voisinage).\n",
    "- Tester des modèles **non linéaires** (Random Forest, Gradient Boosting).\n",
    "- Mettre en place une **validation croisée** + **GridSearchCV** pour les hyperparamètres.\n",
    "- Déployer un **outil de scoring** (Streamlit/Flask) pour une utilisation métier."
   ]
  },
  {
   "cell_type": "code",
   "execution_count": 19,
   "id": "a592bd05-787d-4644-b743-227e45c52fa0",
   "metadata": {},
   "outputs": [
    {
     "data": {
      "text/plain": [
       "{'r2_simple': 0.495,\n",
       " 'r2_multiple': 0.6144,\n",
       " 'f_pvalue_simple': 4.386383022975568e-180,\n",
       " 'f_pvalue_multiple': 1.1126311030468136e-245,\n",
       " 'better_multiple': True,\n",
       " 'non_significant_multi': ['LotFrontage']}"
      ]
     },
     "execution_count": 19,
     "metadata": {},
     "output_type": "execute_result"
    }
   ],
   "source": [
    "# ============================\n",
    "# 5. Sauvegarde des métriques clés \n",
    "# ============================\n",
    "# But : garder une trace des résultats (utile pour joindre au repo).\n",
    "\n",
    "summary_dict = {\n",
    "    \"r2_simple\": round(r_squared_simple, 4),\n",
    "    \"r2_multiple\": round(r_squared_multi, 4),\n",
    "    \"f_pvalue_simple\": float(simple_model_results.f_pvalue),\n",
    "    \"f_pvalue_multiple\": float(multiple_model_results.f_pvalue),\n",
    "    \"better_multiple\": bool(second_model_is_better),\n",
    "    \"non_significant_multi\": list(non_sig.index) if isinstance(non_sig, pd.Series) and len(non_sig) else []\n",
    "}\n",
    "\n",
    "pd.Series(summary_dict, name=\"results\").to_json(\"results_summary.json\", indent=2)\n",
    "summary_dict"
   ]
  },
  {
   "cell_type": "code",
   "execution_count": null,
   "id": "8be31cec-5265-4a3e-885b-c7d3a025cc70",
   "metadata": {},
   "outputs": [],
   "source": []
  }
 ],
 "metadata": {
  "kernelspec": {
   "display_name": "Python [conda env:base] *",
   "language": "python",
   "name": "conda-base-py"
  },
  "language_info": {
   "codemirror_mode": {
    "name": "ipython",
    "version": 3
   },
   "file_extension": ".py",
   "mimetype": "text/x-python",
   "name": "python",
   "nbconvert_exporter": "python",
   "pygments_lexer": "ipython3",
   "version": "3.12.7"
  }
 },
 "nbformat": 4,
 "nbformat_minor": 5
}
